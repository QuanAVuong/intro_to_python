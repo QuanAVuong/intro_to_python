{
 "cells": [
  {
   "cell_type": "markdown",
   "metadata": {},
   "source": [
    "# Intro to Python, Part 1: Numeric Operations, Logical Operations, While Loops\n",
    "\n",
    "## Welcome!\n",
    "\n",
    "This is a jupyter notebook. We'll be using these for our lectures and assignments in this workshop. Here are the most important things to know:\n",
    "* In a notebook like this you can can run a bit of Python code in each cell. To run the code in any cell, hit **shift-enter**.\n",
    "* The easiest way to make a new cell is to split an existing one by hitting **control-shift-minus**.\n",
    "* If you're trying to run code, make sure the cell is type \"code\" (you can change it to \"code\" in the dropdown in the center of the toolbar above).\n",
    "\n",
    "Let's learn some Python!\n",
    "\n",
    "## Topics covered in this lecture\n",
    "\n",
    "* Number variable types\n",
    "* Numeric operations\n",
    "* Logical operations\n",
    "* While loops\n",
    "\n",
    "### Numeric Variable Types\n",
    "\n",
    "There are a number of base numeric variable types built into Python. The ones that we will be looking at today are `ints` (short for integers), `floats` (short for floating point decimal numbers).\n",
    "\n",
    "Let's experiment with using these types in the IPython console. Type the number 7 and hit shift-enter."
   ]
  },
  {
   "cell_type": "code",
   "execution_count": 1,
   "metadata": {},
   "outputs": [
    {
     "data": {
      "text/plain": [
       "7"
      ]
     },
     "execution_count": 1,
     "metadata": {},
     "output_type": "execute_result"
    }
   ],
   "source": [
    "7"
   ]
  },
  {
   "cell_type": "markdown",
   "metadata": {},
   "source": [
    "The IPython console will accept arbitrary Python commands, entered after the `In [#]:`, and execute them, handing you back the results of the computation, displayed after the `Out[#]:`."
   ]
  },
  {
   "cell_type": "code",
   "execution_count": 2,
   "metadata": {},
   "outputs": [
    {
     "data": {
      "text/plain": [
       "7.5"
      ]
     },
     "execution_count": 2,
     "metadata": {},
     "output_type": "execute_result"
    }
   ],
   "source": [
    "7.5"
   ]
  },
  {
   "cell_type": "markdown",
   "metadata": {},
   "source": [
    "One thing that is important to note about Python is that it is a **duck-typed** language. What does this mean? The name duck comes from the classic \"If it walks like a duck, and quacks like a duck, then it must be a duck\" adage. As applied to our situation, it simply means that Python will determine what it thinks is the best type to call a variable when you use it, unless explicitly told otherwise.\n",
    "\n",
    "To inspect what type Python thinks a number (or anything else is), you can pass it to the `type()` function. Let's see what we get out when we pass numbers of various types to this function.\n",
    "\n",
    "#### Types"
   ]
  },
  {
   "cell_type": "code",
   "execution_count": 3,
   "metadata": {},
   "outputs": [
    {
     "data": {
      "text/plain": [
       "int"
      ]
     },
     "execution_count": 3,
     "metadata": {},
     "output_type": "execute_result"
    }
   ],
   "source": [
    "type(7)"
   ]
  },
  {
   "cell_type": "code",
   "execution_count": 4,
   "metadata": {},
   "outputs": [
    {
     "data": {
      "text/plain": [
       "float"
      ]
     },
     "execution_count": 4,
     "metadata": {},
     "output_type": "execute_result"
    }
   ],
   "source": [
    "type(7.5)"
   ]
  },
  {
   "cell_type": "markdown",
   "metadata": {},
   "source": [
    "As you can see, Python assumes that a number with no decimal point is an `int` and those with a decimal point a `float`.\n",
    "\n",
    "While very frequently these subtle differences wont matter too much, there are plenty of occasions where Python hiding this implementation detail will make you think that something will work, when really it won't. Making sure you know how to check is very important.\n",
    "\n",
    "### Numeric Operations\n",
    "\n",
    "At its base level Python is really just an awesome calculator that can do way more stuff than addition and subtraction. But let's focus on that functionality for now.\n",
    "\n",
    "All of the simple operations that you think should be available are. Addition, subtraction, multiplication, division and exponentiation are all accessible via `+`, `-`, `*`, `/` and `**`, respectively."
   ]
  },
  {
   "cell_type": "code",
   "execution_count": null,
   "metadata": {},
   "outputs": [],
   "source": [
    "7+8"
   ]
  },
  {
   "cell_type": "code",
   "execution_count": null,
   "metadata": {},
   "outputs": [],
   "source": [
    "7-8"
   ]
  },
  {
   "cell_type": "code",
   "execution_count": null,
   "metadata": {},
   "outputs": [],
   "source": [
    "7*8"
   ]
  },
  {
   "cell_type": "code",
   "execution_count": null,
   "metadata": {},
   "outputs": [],
   "source": [
    "7/8"
   ]
  },
  {
   "cell_type": "code",
   "execution_count": null,
   "metadata": {},
   "outputs": [],
   "source": [
    "7**8"
   ]
  },
  {
   "cell_type": "markdown",
   "metadata": {},
   "source": [
    "All of these operations output exactly what we think they would, except one. The fourth one, where we divided 7 by 8, gave us 0, even though we know that it should be 0.875. ** This happened because the input on both sides of the `/` were integers, so Python decided to cast the output as an integer. ** Let's visit all aspects of this problem."
   ]
  },
  {
   "cell_type": "code",
   "execution_count": null,
   "metadata": {},
   "outputs": [],
   "source": [
    "7/8"
   ]
  },
  {
   "cell_type": "code",
   "execution_count": null,
   "metadata": {},
   "outputs": [],
   "source": [
    "7/8.0"
   ]
  },
  {
   "cell_type": "code",
   "execution_count": null,
   "metadata": {},
   "outputs": [],
   "source": [
    "7/8."
   ]
  },
  {
   "cell_type": "code",
   "execution_count": null,
   "metadata": {},
   "outputs": [],
   "source": [
    "int(7/8.)"
   ]
  },
  {
   "cell_type": "code",
   "execution_count": null,
   "metadata": {},
   "outputs": [],
   "source": [
    "7 // 8."
   ]
  },
  {
   "cell_type": "markdown",
   "metadata": {},
   "source": [
    "Notice that once we made one of the numbers in the operation a `float`, Python realized that it should return a `float` from the operation, and we got 0.875 as expected. This exact same procedure was followed the third time, but the trailing 0 on the `float` version of 8 was left off. Python doesn't need to see anything following the decimal point to know it should be interpreting the number as a `float`, so long as the \".\" is there. Similarly, we can manually cast the output of the 4th operation as an `int` by passing the result directly to the `int()` constructor. Manually casting in this way can be very useful when Python is interpreting things differently than you would like it to. The last operation that we performed is called floor division, `//`. Really, all it does is perform division and truncate the result. So, where `7 / 8.` gave us `0.875`, `7 // 8.` cuts off after the `0.` giving us `0.0`.\n",
    "\n",
    "The last operation that we will go over is the **modular division operator**, `%`. This operation is the sibling to `/`. Where `71 / 7` gives us the integer number of times that 7 goes into 71 (10), `71 % 7` gives us the remainder from that integer division (1)."
   ]
  },
  {
   "cell_type": "code",
   "execution_count": null,
   "metadata": {},
   "outputs": [],
   "source": [
    "71 % 7"
   ]
  },
  {
   "cell_type": "code",
   "execution_count": null,
   "metadata": {},
   "outputs": [],
   "source": [
    "71//7"
   ]
  },
  {
   "cell_type": "markdown",
   "metadata": {},
   "source": [
    "### Variables\n",
    "\n",
    "One of the most powerful constructs in programming is the ability to store arbitrary values in what we call variables. You can think of variable assignment as giving a name to something so that it can be accessed later by different parts of your program.\n",
    "\n",
    "** In Python, variable assignment occurs with the `=` operator. ** So to assign a value to a variable name (i.e. declare it), you simply put the variable name on the left side of the `=` and the value you want to associate with that variable name on the right hand side. Now that this has happened, you can access the value in the variable simply by using it's name somewhere later in your code or IPython session."
   ]
  },
  {
   "cell_type": "code",
   "execution_count": null,
   "metadata": {
    "collapsed": true
   },
   "outputs": [],
   "source": [
    "x = 1"
   ]
  },
  {
   "cell_type": "code",
   "execution_count": null,
   "metadata": {},
   "outputs": [],
   "source": [
    "x"
   ]
  },
  {
   "cell_type": "code",
   "execution_count": null,
   "metadata": {},
   "outputs": [],
   "source": [
    "x + 1"
   ]
  },
  {
   "cell_type": "markdown",
   "metadata": {},
   "source": [
    "Some guidelines for naming variables:\n",
    "* Variable name can be any contiguous set of characters, but there are some conventions followed in Python\n",
    "* \"Snake case\" naming convention: `this_is_a_variable` instead of 'thisIsAVariabl' (camel case)\n",
    "* Giving variables good names makes your code more readable and therefore maintainable. There is a big difference between seeing a variable called `degrees` and one called `y`. \n",
    "*You should strive to give your variables well-defined, succinct names.\n",
    "\n",
    "There are of course cases where using less than descriptive variable names follows convention and is, therefore, just fine to use. One that comes to mind is the use of `i` to keep track of an index (we will cover this idea next week, but it wouldn't be surprising if you understood the concept already). Because of its prevalent usage for this purpose, it is usually easy to understand what is happening in that context, and the lack of descriptiveness is okay. The important thing is that the code is **understandable**.\n",
    "\n",
    "Note that we saw no output from the first command above. This is because the return value that would have been printed to the console for output was assigned to the variable `x`. This is why we had to view it in the next line with a simple call to `x`.\n",
    "\n",
    "**A large part of the power of variables is the fact that they can change.** This allows us to use a single variable name to keep track of a single thing throughout the life of a program. The exact same syntax can be used to change the value stored in the variable.\n",
    "\n",
    "Say we want to add 5 to `x` from the previous code example and store it in `x`."
   ]
  },
  {
   "cell_type": "code",
   "execution_count": null,
   "metadata": {},
   "outputs": [],
   "source": [
    "x + 5"
   ]
  },
  {
   "cell_type": "code",
   "execution_count": null,
   "metadata": {},
   "outputs": [],
   "source": [
    "x"
   ]
  },
  {
   "cell_type": "markdown",
   "metadata": {},
   "source": [
    "We can add 5 to x, but it doesn't change unless we re-assign it."
   ]
  },
  {
   "cell_type": "code",
   "execution_count": null,
   "metadata": {
    "collapsed": true
   },
   "outputs": [],
   "source": [
    "x = x + 5"
   ]
  },
  {
   "cell_type": "code",
   "execution_count": null,
   "metadata": {},
   "outputs": [],
   "source": [
    "x"
   ]
  },
  {
   "cell_type": "markdown",
   "metadata": {},
   "source": [
    "Notice how the first line is formatted. Python knows that the `=` means variable assignment, so when it sees the first line it evaluates the right side of the equals and then puts that value in `x`, even though `x` is part of the calculation on the right side.\n",
    "\n",
    "Changing variables in this way occurs so commonly that there is built-in shorthand for it. The result of the first line could have been achieved with `x += 5`. This *syntactic sugar* is available for all the simple operations `+`, `-`, `*`, `/`, `**`, and `%` that we covered earlier."
   ]
  },
  {
   "cell_type": "code",
   "execution_count": null,
   "metadata": {},
   "outputs": [],
   "source": [
    "my_var = 5\n",
    "my_var += 1\n",
    "my_var"
   ]
  },
  {
   "cell_type": "code",
   "execution_count": null,
   "metadata": {},
   "outputs": [],
   "source": [
    "my_var /= 2\n",
    "my_var"
   ]
  },
  {
   "cell_type": "markdown",
   "metadata": {},
   "source": [
    "### Logic\n",
    "\n",
    "The most simple way to control the flow of your Python program is with an `if` statement. From a high level, an `if` statement allows us to check whether or not a certain condition is true, and perform operations specific to that situation if the condition is true.\n",
    "\n",
    "For example, say we want a program that takes a bunch of numbers and gives back only the even ones. We would need to write an `if` statement that identifies whether or not a number is even (we'll talk about how to do this), and then give back only those that meet the even condition. This is a program that will be entirely within our ability to implement at the end of the day; for now though, let's focus on the `if` statement.\n",
    "\n",
    "The general syntax of an `if` statement in Python is:\n",
    "```python\n",
    "if condition:\n",
    "    if_block_statement\n",
    "```\n",
    "\n",
    "Notice how the `if` statement ends in a colon `:`. This is the way that Python declares the start of an indentation block. **The purposes of indentation blocks manifest themselves in many different ways, but with our `if` statement just know that they mark a section of code that is run under specific circumstances.**\n",
    "\n",
    "#### Conditionals\n",
    "\n",
    "Let's tackle this one part at a time. What does it mean to be a condition? **Really, all an `if` is checking is whether the conditional evaluates to `True` or `False`.** \n",
    "\n",
    "If the condition is true, then the body of the `if` statement is executed. If the condition is false, the `if` block is skipped. Intuitively, true and false are concepts that make perfect sense to us. But we should take the time to clearly define them in a programming context here.\n",
    "\n",
    "`True` and `False` are what we call booleans in logic (`bool` for short), and what Python calls them. They are a special variable type with many potential uses; mainly they are used as a way to put a label on the truth of a statement. There are two specifically reserved words for bools in Python, `True` and `False`. Note that these begin with capital letters."
   ]
  },
  {
   "cell_type": "code",
   "execution_count": null,
   "metadata": {},
   "outputs": [],
   "source": [
    "type(True)"
   ]
  },
  {
   "cell_type": "code",
   "execution_count": null,
   "metadata": {},
   "outputs": [],
   "source": [
    "type(False)"
   ]
  },
  {
   "cell_type": "markdown",
   "metadata": {},
   "source": [
    "In addition, a wide variety of statements can evaluate to booleans. The ones that we will focus on today are the equalities, *equal to* and *not equal to*, and the inequalities, *less than*, *greater than*, *less than or equal to* and *greater than or equal to*. These comparisons are available in Python via `==`, `!=`, `<`, `>`, `<=` and `>=`, respectively."
   ]
  },
  {
   "cell_type": "code",
   "execution_count": null,
   "metadata": {},
   "outputs": [],
   "source": [
    "1 == 2"
   ]
  },
  {
   "cell_type": "code",
   "execution_count": null,
   "metadata": {},
   "outputs": [],
   "source": [
    "1 != 2"
   ]
  },
  {
   "cell_type": "code",
   "execution_count": null,
   "metadata": {},
   "outputs": [],
   "source": [
    "1 < 2"
   ]
  },
  {
   "cell_type": "code",
   "execution_count": null,
   "metadata": {},
   "outputs": [],
   "source": [
    "1 > 2"
   ]
  },
  {
   "cell_type": "code",
   "execution_count": null,
   "metadata": {},
   "outputs": [],
   "source": [
    "1 <= 2\n"
   ]
  },
  {
   "cell_type": "code",
   "execution_count": null,
   "metadata": {},
   "outputs": [],
   "source": [
    "1 >= 2"
   ]
  },
  {
   "cell_type": "markdown",
   "metadata": {},
   "source": [
    "#### Using the If\n",
    "\n",
    "Now that we understand conditionals, let's talk about how we can use them with variables to make our programs dynamic. Consider the following code block."
   ]
  },
  {
   "cell_type": "code",
   "execution_count": null,
   "metadata": {},
   "outputs": [],
   "source": [
    "if x > 5:\n",
    "    x += 10\n",
    "print x"
   ]
  },
  {
   "cell_type": "markdown",
   "metadata": {},
   "source": [
    "**Note**: The `print` function simply pipes the value passed to it to the console.\n",
    "\n",
    "In the above code we don't need to know what the value of `x` is, but we can say that if it's greater than 5, it will come out of the code block 10 greater than before the `if` statement."
   ]
  },
  {
   "cell_type": "markdown",
   "metadata": {},
   "source": [
    "#### Building on the If\n",
    "\n",
    "Ok, so, the `if` is cool. But it seems like, due to it's structure, there are only so many things you can do with it. Let's summarize this with what's known as a *flow diagram*.\n",
    "\n",
    "![If Flow](http://www.tutorialspoint.com/cprogramming/images/if_statement.jpg)\n",
    "\n",
    "You can see that there are two branches created by the `if` statement, one when the condition is true, and the other when it is false. In the former case, the conditional code is executed, and in the latter, the conditional code is ignored. But what if we wanted to check more than one thing (i.e. have more than two branches in our flow diagram)?\n",
    "\n",
    "Python gives us two ways to do this. One by offering other conditionals, `elif` and `else`, and the other by allowing us to combine conditions with logicals `and`, `or` and `not`.\n",
    "\n",
    "##### Elif and Else\n",
    "\n",
    "In addition to the `if`, Python provides us with two other statements to build out those logical trees, the `elif` and the `else`. The `elif` is just like the `if` - it accepts a condition to check the truth of and has an indented code block that is executed when that condition evaluates to `True`. The `else` is similar, but it doesn't accept a condition. Instead, it mainly acts as a catch all for any other situation that you don't need to cover with your `if`s and `elif`s. Note that there can only be a single `if` and up to a single `else`, but any number of `elif`s in an `if`-`elif`-`else` block. Let's take a closer look at this in the following code block that we'll store in `if_elif_else.py`."
   ]
  },
  {
   "cell_type": "code",
   "execution_count": null,
   "metadata": {},
   "outputs": [],
   "source": [
    "if True:\n",
    "    print 'A bool variable functions the same as a logical comparison'\n",
    "else:\n",
    "    print 'This will never print, unless you change the bool above to False!'"
   ]
  },
  {
   "cell_type": "code",
   "execution_count": null,
   "metadata": {},
   "outputs": [],
   "source": [
    "x = 3\n",
    "if x < 0:                                # Condition is checked no matter what \n",
    "    print('X is a negative number.')\n",
    "elif x > 0:                              # Condition is checked only if preceding if statement is False\n",
    "    print('X is a positive number.')\n",
    "else:                                    # Executes code under the else block if all preceding are False\n",
    "    print('X is the number 0.')"
   ]
  },
  {
   "cell_type": "markdown",
   "metadata": {},
   "source": [
    "Let's specifically talk about how the `if`-`elif`-`else` statements work. The programmers of Python designed these statements so that they would execute highly efficiently. They achieved this by making it so that when Python is going through your `if`-`elif`-`else` statements and encounters a condition that evaluates to `True`, it will execute the corresponding conditional code block and then skip to the line directly following the last conditional block."
   ]
  },
  {
   "cell_type": "code",
   "execution_count": null,
   "metadata": {},
   "outputs": [],
   "source": [
    "x = 4\n",
    "if x > 5:\n",
    "    print('You entered a number bigger than 5.')\n",
    "elif x > 0:\n",
    "    print('You entered a positive number.')\n",
    "elif x < 0:\n",
    "    print('You entered a negative number.')\n",
    "else:\n",
    "    print('You entered the number 0.')"
   ]
  },
  {
   "cell_type": "markdown",
   "metadata": {},
   "source": [
    "Note what happens in the code above if you change `x` to 6. The only condition that evaluates to true when `x` is 4 is the second one. However, changing `x` to 6 yields only 'You entered a number bigger than 5.', even though 6 is greater than 0 as well. This shows that only one of the conditional blocks in an `if`-`elif`-`else` statement will ever be evaluated, and once this happens the rest are skipped.\n",
    "\n",
    "**Note**: The `else` part of the statement is actually optional. If it is not included, then we'd notice that at most one of the conditional blocks in an `if`-`else` statement will be evaluated.\n",
    "\n",
    "##### And, Or and Not\n",
    "\n",
    "There are plenty of times when we want to execute some specific code when more than one condition is true. Check out the following code snippet."
   ]
  },
  {
   "cell_type": "code",
   "execution_count": null,
   "metadata": {},
   "outputs": [],
   "source": [
    "x = 3\n",
    "if x > 5:\n",
    "    if x < 10:\n",
    "        print x"
   ]
  },
  {
   "cell_type": "markdown",
   "metadata": {},
   "source": [
    "We can see that what this **nested** `if` statement is checking for are numbers that lie in the interval (5, 10), and if it finds one it prints it. We can intuitively guess that there is a better way to check for this condition. And there is!!!\n",
    "\n",
    "Python gives us full access to what are known as boolean operations. The ones that we will use most often are `and`, `or` and `not`. Both `and` and `or` take two conditions as inputs, while `not` takes only a single condition. They all return a single boolean, with `and` requiring both conditions to be `True` to return `True`, and the `or` requiring only one of the conditions to be `True` to return `True`. The `not` switches the truth of the input condition. These operations are derived from formal logic, and you can find a full discussion of their intricacies found [here](https://en.wikipedia.org/wiki/Truth_table).\n",
    "\n",
    "What this means is that we now have a natural way to combine conditions. The previously nested `if` statement can now be written as a simple `if x > 5 and x < 10`. We can also chain other interesting conditionals together."
   ]
  },
  {
   "cell_type": "code",
   "execution_count": null,
   "metadata": {
    "collapsed": true
   },
   "outputs": [],
   "source": [
    "x = 3\n",
    "if x > 5 and x < 10:\n",
    "    print x"
   ]
  },
  {
   "cell_type": "code",
   "execution_count": null,
   "metadata": {},
   "outputs": [],
   "source": [
    "x = 3\n",
    "if x > 10 or x < 5:\n",
    "    print(x)"
   ]
  },
  {
   "cell_type": "code",
   "execution_count": null,
   "metadata": {},
   "outputs": [],
   "source": [
    "if not (x <= 10 and x >= 5):\n",
    "    print(x)"
   ]
  },
  {
   "cell_type": "markdown",
   "metadata": {},
   "source": [
    "Notice how the first `if` in the above code snippet uses an `or`, printing `x` if it is greater than 10 or less than 5. Inherently this statement is also saying that it will print `x` if `x` is not between 5 and 10, which is expressed in the second `if` statement. This illustrates an important point - there is always more than one way to accomplish the same thing in programming.\n",
    "\n",
    "### Looping\n",
    "\n",
    "Everything that we learned in the last section on logic is part of an idea called **control flow**, which refers to the order in which statements in your program are executed. Controlling this flow can be done in many ways; `if`-`elif`-`else` statements is only one.\n",
    "\n",
    "Often in programming we want to do something over and over (and over), possibly under the same circumstances each time or under slightly different circumstances each time. With the tools that we currently possess, we have to write out a line of Python for each time that we want to do that something. \n",
    "\n",
    "Consider that you are asked to write a program to calculate the sum of the numbers between 1 and 8 (without the use of any built-in Python functions). We could write an extremely simple program to do this for us."
   ]
  },
  {
   "cell_type": "code",
   "execution_count": null,
   "metadata": {},
   "outputs": [],
   "source": [
    "sum_1_8 = 1 + 2 + 3 + 4 + 5 + 6 + 7 + 8\n",
    "print(sum_1_8)"
   ]
  },
  {
   "cell_type": "markdown",
   "metadata": {},
   "source": [
    "While this definitely works, there are a couple of things I want to draw your attention to.\n",
    "* What happens if we want to add the numbers 1 through 9 together? Not that hard, just add 9 to `sum_1_8` you say. \n",
    "* Ok, but what if you want to add 2 through 9 together? Now we could take `sum_1_8`, add 9 and subtract off 1. \n",
    "\n",
    "Instead of having all of these **hard coded** values in our definition of `sum_1_8`, we could instead **abstract** away part of our problem. \n",
    "\n",
    "Abstraction means refering to an idea whose implementation is more general and/or hidden from us. In the above example, we see exactly what we're doing to sum the numbers 1 through 8. This isn't abstracted at all. So how are we to solve this problem more abstractly?\n",
    "\n",
    "So let's do that with our coding problem above. We were asked to add together the numbers 1 through 8. This can be thought of as given a starting number, 1, and then adding on the next number, 2, to get 3. Then we can repeat this process, taking the next number, 3, and adding it on, giving us 6. We could then continue this process until we reach the final number, 8, and then stop. (This is inherently what we were doing in that single line of Python when we said `1 + 2 + 3 + 4 + 5 + 6 + 7 + 8`, but that implementation is what we call **brittle** - it only works for that specific case and breaks whenever we want to do something even slightly different.)\n",
    "\n",
    "#### While Loops\n",
    "\n",
    "Notice how in our high level description of the problem solution, we kept saying \"and then\". This repetitious language brings us to our next control flow tool, **loops**. There are two types of loops in Python, but in this lecture we're going to focus on `while` loops. \n",
    "\n",
    "`while` loops are an amazing tool which simply allow us to have a predefined chunk of code which we tell Python we want to run over and over under certain conditions, similar to `if` statements.\n",
    "\n",
    "```python\n",
    "while condition:\n",
    "    while_block_statement\n",
    "```"
   ]
  },
  {
   "cell_type": "markdown",
   "metadata": {},
   "source": [
    "As with  `if`, a `while` statement has a condition; unlike the `if`, the while block will execute over and over again as long as the condition is `True`. This is where we get the name `while` loop from - as long as the condition evaluates to `True`, we will execute the code inside the `while` block, looping over it. The `while` condition is checked each time before the `while` statement block is executed.\n",
    "\n",
    "\n",
    "Let's look at how we can harness this new structure to solve our previous problem. Take a look at the following code."
   ]
  },
  {
   "cell_type": "code",
   "execution_count": null,
   "metadata": {},
   "outputs": [],
   "source": [
    "total, x = 0, 1\n",
    "while x <= 8:\n",
    "    total += x\n",
    "    x += 1\n",
    "print(total)"
   ]
  },
  {
   "cell_type": "markdown",
   "metadata": {},
   "source": [
    "Let's break down this code to see what is going on. On the first line, we declare a couple of variables (here you see the Python syntax used to do multiple assignments in a single line), `total` and `x`. `total` is the variable that we are going to aggregate our sum into, and `x` is the first number that we start our adding at. The next line declares the start of our newly learned `while` block. It's condition is x <= 8, and naturally reads as: \"while x is less than or equal to 8\", do stuff in the block. The block then says we are to add the current value of `x` to total, then add one to `x`.\n",
    "\n",
    "We know that this `while` statement will loop through the `while` block many times, but the values of `total` and `x` will change each time through the loop. So, let's take a look at what the values of both of these variables are throughout the execution of the loop.\n",
    "\n",
    "| After loop #  |   total   |   x   |   x <= 8   |\n",
    "| ------------- |:---------:|:-----:|:----------:|\n",
    "| 1             |  1        |   2   |    True    |\n",
    "| 2             |  3        |   3   |    True    |\n",
    "| 3             |  6        |   4   |    True    |\n",
    "| 4             |  10       |   5   |    True    |\n",
    "| 5             |  15       |   6   |    True    |\n",
    "| 6             |  21       |   7   |    True    |\n",
    "| 7             |  28       |   8   |    True    |\n",
    "| 8             |  36       |   9   |    False   |\n",
    "\n",
    "We see that as we continue through the loop, `total` is growing by the value of `x` from the previous execution of the loop, and this continues until the condition `x <= 8` evaluates to `False`. This happens when `x` is 9, at which point we exit the loop, and `total` has accrued the sum of the numbers 1 through 8. Magic!!\n",
    "\n",
    "To solidify this idea in the framework of control flow, take a look at the structure of the `while` loop as a flow diagram.\n",
    "\n",
    "![While Flow](http://www.programiz.com/sites/tutorial2program/files/C_while_loop.jpg)\n",
    "\n",
    "We see that the trick to the loop, in terms of control flow, is that we return to check the condition each time after the `while` block is executed to determine if we should execute it again.\n",
    "\n",
    "#### Infinite Loops\n",
    "\n",
    "While the power of this looping construct is undeniable, there is one extraordinarily important thing that should be on your mind when you're writing `while` loops.\n",
    "\n",
    "Notice that our condition in the `while` loop example made sense because we were changing the value of `x` each time through the loop (with the line `x += 1`). What would happen, though, if we didn't do this incrementing (other than not calculating the correct value for `total`)?\n",
    "\n",
    "Let's take a look at what the loop table would look like in this situation.\n",
    "\n",
    "| After loop #  |   total   |   x   |   x <= 8   |\n",
    "| ------------- |:---------:|:-----:|:----------:|\n",
    "| 1             |  1        |   1   |    True    |\n",
    "| 2             |  2        |   1   |    True    |\n",
    "| 3             |  3        |   1   |    True    |\n",
    "| 4             |  4        |   1   |    True    |\n",
    "| Etc.          |  Etc.     |  Etc. | **Always** True |\n",
    "\n",
    "Aside from the obvious problem that we aren't finding the sum of the values 1 through 8, we run into another, very egregious issue. Will the condition `x <= 8` ever evaluate to `False`? No. So will the loop ever finish executing?? It won't!!\n",
    "\n",
    "We call this idea getting stuck in an **infinite loop**. They are almost *always* bad, and they usually manifest themselves as your program running for way longer than you would expect it to run, at which point you realize that something weird is happening. The common cause of these infinite loops is almost always having a condition that always evaluates to `True`.\n",
    "\n",
    "#### More Control Flow\n",
    "\n",
    "##### Continue\n",
    "\n",
    "So what if we want even more control over how the body of our loop is executed? Let's motivate this idea with a problem. Say we want to add all the numbers from 1 to 8... but not 5. Again, we could solve this with our current solution, and then subtract off 5. But, again, that takes a lot of manipulation. Instead, we can use the main structure of our current loop and add in a new condition with an `if` and use a new tool to interrupt our program's flow.\n",
    "\n",
    "Enter `continue`. What `continue` does is simply tell Python that it should skip the rest of the body of the `while` block, and jump (`continue`) to the next iteration of the loop. Let's take a look at `continue` in action."
   ]
  },
  {
   "cell_type": "code",
   "execution_count": null,
   "metadata": {},
   "outputs": [],
   "source": [
    "total, x = 0, 1\n",
    "while x <= 8:\n",
    "    if x == 5:\n",
    "        x += 1\n",
    "        continue\n",
    "    total += x\n",
    "    x += 1\n",
    "    print total, x\n",
    "print total"
   ]
  },
  {
   "cell_type": "code",
   "execution_count": null,
   "metadata": {
    "collapsed": true
   },
   "outputs": [],
   "source": []
  },
  {
   "cell_type": "markdown",
   "metadata": {},
   "source": [
    "In this updated program we can see that we will, at each iteration of the loop, check to see if the current value that we're about to add on to `total` is 5. If it isn't, we go on with our aggregation of `total`. If `x` is 5, we add one to `x` (do you see why we need to do this?), and skip adding `x` to total by executing a `continue`, jumping immediately to the next iteration of the loop. Let's see how this would look in the loop table.\n",
    "\n",
    "| After loop #  |   total   |   x   |   x <= 8   |    x == 5   |\n",
    "| ------------- |:---------:|:-----:|:----------:|:-----------:|\n",
    "| 1             |  1        |   2   |    True    |    False    |\n",
    "| 2             |  3        |   3   |    True    |    False    |\n",
    "| 3             |  6        |   4   |    True    |    False    |\n",
    "| 4             |  10       |   5   |    True    |    True     |\n",
    "| 5             |  10       |   6   |    True    |    False    |\n",
    "| 6             |  16       |   7   |    True    |    False    |\n",
    "| 7             |  23       |   8   |    True    |    False    |\n",
    "| 8             |  31       |   9   |    False   |    False    |\n",
    "\n",
    "During the fourth iteration of the loop, when `x` is 5, we see that `total` does not get 5 added to it.  Therefore, the final answer is, as we'd expect, 31.\n",
    "\n",
    "##### Break\n",
    "\n",
    "In addition to the continue, we have another, more aggressive, method to control the flow of our programs - `break`. Where `continue` allowed us to skip the rest of the loop's code block and jump directly to the next iteration of the loop, `break` ** allows us to manually leave the loop entirely.**\n",
    "\n",
    "Time for an illustrative example. Consider trying to write a program that adds the numbers 1 to 8, but only up to 25. If the sum exceeds 25, the total is set to 25 and the message, \"The sum exceeded the max value of 25.\" is printed. We could certainly complete this task with the tools that we already possess, but `break` is better suited to meet the needs of this situation. Let's take a look at what this implementation would look like."
   ]
  },
  {
   "cell_type": "code",
   "execution_count": null,
   "metadata": {},
   "outputs": [],
   "source": [
    "total, x = 0, 1\n",
    "while x <= 8:\n",
    "    if total > 25:\n",
    "        total = 25\n",
    "        print('The sum exceeded the max value of 25.')\n",
    "        break\n",
    "    total += x\n",
    "    x += 1\n",
    "print(total)"
   ]
  },
  {
   "cell_type": "markdown",
   "metadata": {},
   "source": [
    "At this point I'm confident that you are tired of looking at tables of values, but let's do this one last time for consistency under the above program specifications.\n",
    "\n",
    "| After loop #  |   total   |   x   |   x <= 8   | total > 25  |\n",
    "| ------------- |:---------:|:-----:|:----------:|:-----------:|\n",
    "| 1             |  1        |   2   |    True    |    False    |\n",
    "| 2             |  3        |   3   |    True    |    False    |\n",
    "| 3             |  6        |   4   |    True    |    False    |\n",
    "| 4             |  10       |   5   |    True    |    False    |\n",
    "| 5             |  15       |   6   |    True    |    False    |\n",
    "| 6             |  21       |   7   |    True    |    False    |\n",
    "| 7             |  28       |   8   |    True    |    True     |\n",
    "\n",
    "At this point `total` is set to 25 and the message \"The sum exceeded the max value of 25.\" is printed. The loop is exited and then 25 (the value of `total` now) is printed to the screen.\n",
    "\n",
    "##### Pass\n",
    "\n",
    "There's one more statement that allows us control over our programs - `pass`. All `pass` does is tell Python to do nothing. Because of this, it is rarely used for control flow, since the same result could be achieved by doing nothing. Instead, it is frequently offered as a place holder, since Python will complain about empty code blocks.\n",
    "\n",
    "So while you're building up the skeleton of a program, `pass` can be useful as a method to get the framework written up without focusing on implementation. To illustrate..."
   ]
  },
  {
   "cell_type": "code",
   "execution_count": null,
   "metadata": {},
   "outputs": [],
   "source": [
    "x = 0\n",
    "if x < 0:\n",
    "    pass\n",
    "elif x > 0:\n",
    "    pass\n",
    "else:\n",
    "    print('x is the value of 0.')"
   ]
  },
  {
   "cell_type": "markdown",
   "metadata": {},
   "source": [
    "In the above example, we have set it up so that if `x` is 0, then our program tells us so. Otherwise, we know that we're going to do something specific when `x` is positive and something different when `x` is negative.  We have used pass to suggest that we either haven't figured those things out yet, or simply haven't implemented them."
   ]
  },
  {
   "cell_type": "markdown",
   "metadata": {},
   "source": [
    "## Assignment Questions\n",
    "\n",
    "Now we're going to use some class time to work on the questions below. Don't worry if you don't have time to get through all of them before the next lecture starts. Anything you can't finish now will make for good homework, and we'll send out solutions at the end of the day.\n",
    "\n",
    "1) Write a script that takes a user inputted number and prints whether it is positive, negative or zero, with \"The inputted number is (positive/negative/zero)\" depending.\n",
    "\n",
    "Hint, you can use `raw_input()` to get user-input like so:"
   ]
  },
  {
   "cell_type": "code",
   "execution_count": 6,
   "metadata": {},
   "outputs": [
    {
     "name": "stdout",
     "output_type": "stream",
     "text": [
      "Enter a value for X: 45\n",
      "45\n"
     ]
    }
   ],
   "source": [
    "x = input('Enter a value for X: ')\n",
    "print(x)"
   ]
  },
  {
   "cell_type": "markdown",
   "metadata": {},
   "source": [
    "Write your answer to Question 1 here:"
   ]
  },
  {
   "cell_type": "code",
   "execution_count": 15,
   "metadata": {},
   "outputs": [
    {
     "name": "stdout",
     "output_type": "stream",
     "text": [
      "Please enter a number: 0\n",
      "The inputted number is  zero\n"
     ]
    }
   ],
   "source": [
    "# your code here\n",
    "def pos_neg_zero():\n",
    "    num = float(input(\"Please enter a number: \"))\n",
    "    print(\"The inputted number is \", end=\" \"),\n",
    "    if num > 0:\n",
    "        print(\"positive\")\n",
    "    elif num < 0:\n",
    "        print(\"negative\")\n",
    "    else:\n",
    "        print(\"zero\")\n",
    "        \n",
    "pos_neg_zero()"
   ]
  },
  {
   "cell_type": "markdown",
   "metadata": {},
   "source": [
    "2) Write a script that takes two user inputted numbers and prints \"The first number is larger\" or \"The second number is larger\" depending on which is larger. (**Hint**: you'll need to use `raw_input()` twice.)"
   ]
  },
  {
   "cell_type": "code",
   "execution_count": 21,
   "metadata": {},
   "outputs": [
    {
     "name": "stdout",
     "output_type": "stream",
     "text": [
      "Please enter number #1: 11\n",
      "Please enter number #2: 4\n",
      "The first number 11.0 is larger\n"
     ]
    }
   ],
   "source": [
    "def larger():\n",
    "    num1 = float(input(\"Please enter number #1: \"))\n",
    "    num2 = float(input(\"Please enter number #2: \"))\n",
    "    \n",
    "    print(\"The first number {} is larger\".format(num1)) if num1 > num2 else print(\"The second number {} is larger\".format(num2))\n",
    "        \n",
    "larger()"
   ]
  },
  {
   "cell_type": "markdown",
   "metadata": {},
   "source": [
    "3) Write a script that computes the sum from 0 to a user inputted number. This time though, start at the user inputted number and work down. This answer will look very much like the example above, you'll just need to change a couple of things."
   ]
  },
  {
   "cell_type": "code",
   "execution_count": 32,
   "metadata": {},
   "outputs": [
    {
     "name": "stdout",
     "output_type": "stream",
     "text": [
      "Please enter a number: 3\n",
      "i 0\n",
      "sum 0\n",
      "i 1\n",
      "sum 0\n",
      "i 2\n",
      "sum 1\n",
      "3\n"
     ]
    }
   ],
   "source": [
    "def sum_from_zero():\n",
    "    num = int(input(\"Please enter a number: \"))\n",
    "    sum = 0\n",
    "    \n",
    "    for i in list(range(0,num)):\n",
    "        print(\"i\",i)\n",
    "        print(\"sum\",sum)\n",
    "        sum += i\n",
    "    \n",
    "    print(sum)\n",
    "\n",
    "sum_from_zero()"
   ]
  },
  {
   "cell_type": "markdown",
   "metadata": {},
   "source": [
    "4) Write a script that computes the factorial of a user inputted number. If you don't know what a factorial is or need a review, check [this](https://en.wikipedia.org/wiki/Factorial) link out. Again, your solution is going to look a lot like the code above. Things you should think about:\n",
    "* What is the process of computing a factorial if you were to compute it by hand?\n",
    "* What is the common starting place when trying to compute the factorial of any number?<br><br>"
   ]
  },
  {
   "cell_type": "code",
   "execution_count": null,
   "metadata": {
    "collapsed": true
   },
   "outputs": [],
   "source": []
  },
  {
   "cell_type": "markdown",
   "metadata": {},
   "source": [
    "5)  Write a script that computes and prints all of the divisors of a user inputted number. If you don't know what a divisor is or need a review, check out [this](https://en.wikipedia.org/wiki/Divisor) link. Things to think about:\n",
    "* How do you determine if a single number is a divisor of another?\n",
    "* How do you do this multiple times (**Hint**: it involves a while loop)?\n",
    "* When do you stop the loop?<br><br>"
   ]
  },
  {
   "cell_type": "code",
   "execution_count": null,
   "metadata": {
    "collapsed": true
   },
   "outputs": [],
   "source": []
  },
  {
   "cell_type": "markdown",
   "metadata": {},
   "source": [
    "6)  Write a script that computes the greatest common divisor between two user inputted numbers. If you don't know what a greatest common divisor is, check out [this](https://en.wikipedia.org/wiki/Greatest_common_divisor) link. Things to think about:\n",
    "* How do you get two numbers from the user?\n",
    "* Where should you start your search for the GCD?\n",
    "* Where/how should you end your search?<br><br>"
   ]
  },
  {
   "cell_type": "code",
   "execution_count": null,
   "metadata": {
    "collapsed": true
   },
   "outputs": [],
   "source": []
  },
  {
   "cell_type": "markdown",
   "metadata": {},
   "source": [
    "7)  Write a script that computes the least common multiple between two user inputted numbers. If you don't know what a least common multiple is or want a review check [this](https://en.wikipedia.org/wiki/Least_common_multiple) out. Things to think about:\n",
    "* How do you get two numbers from the user?\n",
    "* Where should you start your search for the LCM?\n",
    "* Where/how should you end your search?<br><br>"
   ]
  },
  {
   "cell_type": "code",
   "execution_count": null,
   "metadata": {
    "collapsed": true
   },
   "outputs": [],
   "source": []
  },
  {
   "cell_type": "markdown",
   "metadata": {},
   "source": [
    "8) Write a script that determines whether or not a user inputted number is a prime number and prints `'The number you inputted is (not) a prime number.'` depending on what your script finds. If you don't know what a prime number is or need a review, check out [this](https://en.wikipedia.org/wiki/Prime_number) link. Things to think about:\n",
    "* How do you check if a number is divisible by another number?\n",
    "* What numbers are a prime number divisible by?\n",
    "* How do you check all of the numbers a number could be divisible by (**Hint**: use a loop)?\n",
    "* When do you stop the loop?<br><br>"
   ]
  },
  {
   "cell_type": "code",
   "execution_count": null,
   "metadata": {
    "collapsed": true
   },
   "outputs": [],
   "source": []
  },
  {
   "cell_type": "markdown",
   "metadata": {},
   "source": [
    "9)  One can use loops to compute the elements of a mathematical series. Series can be defined recursively with the value of each element depending on the one that comes before it. Consider the series created by the rules:\n",
    "\n",
    "![series](misc/series_pic.png)\n",
    "\n",
    "Write a script that prints the `nth` element in the series as determined by input from the user. e.g. If the user inputs the number `3`, your script should print the 3rd element in the series, `15`. You're welcome to check the math! Things to think about:\n",
    "* You know you're going to use a loop to solve this problem, how?\n",
    "* How do you store each of the elements as you calculate them with the loop?\n",
    "* How many elements do you need to keep track of at any one time?\n",
    "* How do you know when to stop the loop?<br><br>"
   ]
  },
  {
   "cell_type": "code",
   "execution_count": null,
   "metadata": {
    "collapsed": true
   },
   "outputs": [],
   "source": []
  },
  {
   "cell_type": "markdown",
   "metadata": {},
   "source": [
    "10) Challenge: solve the equation:\n",
    "\n",
    "`(a + (b - c) * d - e) * f = 75`\n",
    "\n",
    "where a, b, c, d, e, and f are unique integers in the range [1, 6].\n",
    "\n",
    "Hints:\n",
    "* Computers are so fast that your program can simply try all possible valid values of a, b, c, d, e, and f until it finds one permutation of 1-6 that solves the challenge! (Btw, there is only *one* permutation that will solve it.)\n",
    "* Use 6 nested for-loops to enumerate all ways of setting each of a, b, c, d, e, and f to the values 1-6.\n",
    "* Use if-statements to ensure all values of a, b, c, d, e, and f are valid. (I.e. to ensure that each value is unique)\n",
    "* Use an if-statement to test if the current permutation solves the challenge.<br><br>\n",
    "\n",
    "Want more? Modify your program to solve all these (very similar) equations:\n",
    "\n",
    "```\n",
    "(a + (b - c) * d - e) * f = 22\n",
    "(a + (b - c) * d - e) * f = 38\n",
    "(a + (b - c) * d - e) * f = 46\n",
    "(a + (b - c) * d - e) * f = 57\n",
    "(a + (b - c) * d - e) * f = 78\n",
    "(a + (b - c) * d - e) * f = 80\n",
    "(a + (b - c) * d - e) * f = 81\n",
    "(a + (b - c) * d - e) * f = 88\n",
    "(a + (b - c) * d - e) * f = 92\n",
    "(a + (b - c) * d - e) * f = 100\n",
    "(a + (b - c) * d - e) * f = 102\n",
    "(a + (b - c) * d - e) * f = 104\n",
    "(a + (b - c) * d - e) * f = 105\n",
    " ```"
   ]
  },
  {
   "cell_type": "code",
   "execution_count": null,
   "metadata": {
    "collapsed": true
   },
   "outputs": [],
   "source": []
  }
 ],
 "metadata": {
  "kernelspec": {
   "display_name": "Python 3",
   "language": "python",
   "name": "python3"
  },
  "language_info": {
   "codemirror_mode": {
    "name": "ipython",
    "version": 3
   },
   "file_extension": ".py",
   "mimetype": "text/x-python",
   "name": "python",
   "nbconvert_exporter": "python",
   "pygments_lexer": "ipython3",
   "version": "3.6.1"
  }
 },
 "nbformat": 4,
 "nbformat_minor": 1
}
